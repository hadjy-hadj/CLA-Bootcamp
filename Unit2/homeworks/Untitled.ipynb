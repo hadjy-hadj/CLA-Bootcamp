{
 "cells": [
  {
   "cell_type": "code",
   "execution_count": 1,
   "id": "f9cfbc95",
   "metadata": {},
   "outputs": [],
   "source": [
    "import pandas as pd\n",
    "import numpy as np\n",
    "import statistics \n",
    "from statistics import stdev\n",
    "import matplotlib.pyplot as plt \n",
    "%matplotlib inline \n",
    "\n",
    "df = pd.read_csv(\"XboxOne_GameSales.csv\")"
   ]
  },
  {
   "cell_type": "code",
   "execution_count": 2,
   "id": "b8c194f5",
   "metadata": {},
   "outputs": [
    {
     "data": {
      "text/html": [
       "<div>\n",
       "<style scoped>\n",
       "    .dataframe tbody tr th:only-of-type {\n",
       "        vertical-align: middle;\n",
       "    }\n",
       "\n",
       "    .dataframe tbody tr th {\n",
       "        vertical-align: top;\n",
       "    }\n",
       "\n",
       "    .dataframe thead th {\n",
       "        text-align: right;\n",
       "    }\n",
       "</style>\n",
       "<table border=\"1\" class=\"dataframe\">\n",
       "  <thead>\n",
       "    <tr style=\"text-align: right;\">\n",
       "      <th></th>\n",
       "      <th>Pos</th>\n",
       "      <th>Game</th>\n",
       "      <th>Year</th>\n",
       "      <th>Genre</th>\n",
       "      <th>Publisher</th>\n",
       "      <th>North America</th>\n",
       "      <th>Europe</th>\n",
       "      <th>Japan</th>\n",
       "      <th>Rest of World</th>\n",
       "      <th>Global</th>\n",
       "    </tr>\n",
       "  </thead>\n",
       "  <tbody>\n",
       "    <tr>\n",
       "      <th>0</th>\n",
       "      <td>1</td>\n",
       "      <td>Grand Theft Auto V</td>\n",
       "      <td>2014.0</td>\n",
       "      <td>Action</td>\n",
       "      <td>Rockstar Games</td>\n",
       "      <td>4.70</td>\n",
       "      <td>3.25</td>\n",
       "      <td>0.01</td>\n",
       "      <td>0.76</td>\n",
       "      <td>8.72</td>\n",
       "    </tr>\n",
       "    <tr>\n",
       "      <th>1</th>\n",
       "      <td>2</td>\n",
       "      <td>Call of Duty: Black Ops 3</td>\n",
       "      <td>2015.0</td>\n",
       "      <td>Shooter</td>\n",
       "      <td>Activision</td>\n",
       "      <td>4.63</td>\n",
       "      <td>2.04</td>\n",
       "      <td>0.02</td>\n",
       "      <td>0.68</td>\n",
       "      <td>7.37</td>\n",
       "    </tr>\n",
       "    <tr>\n",
       "      <th>2</th>\n",
       "      <td>3</td>\n",
       "      <td>Call of Duty: WWII</td>\n",
       "      <td>2017.0</td>\n",
       "      <td>Shooter</td>\n",
       "      <td>Activision</td>\n",
       "      <td>3.75</td>\n",
       "      <td>1.91</td>\n",
       "      <td>0.00</td>\n",
       "      <td>0.57</td>\n",
       "      <td>6.23</td>\n",
       "    </tr>\n",
       "    <tr>\n",
       "      <th>3</th>\n",
       "      <td>4</td>\n",
       "      <td>Red Dead Redemption 2</td>\n",
       "      <td>2018.0</td>\n",
       "      <td>Action-Adventure</td>\n",
       "      <td>Rockstar Games</td>\n",
       "      <td>3.76</td>\n",
       "      <td>1.47</td>\n",
       "      <td>0.00</td>\n",
       "      <td>0.54</td>\n",
       "      <td>5.77</td>\n",
       "    </tr>\n",
       "    <tr>\n",
       "      <th>4</th>\n",
       "      <td>5</td>\n",
       "      <td>MineCraft</td>\n",
       "      <td>2014.0</td>\n",
       "      <td>Misc</td>\n",
       "      <td>Microsoft Studios</td>\n",
       "      <td>3.23</td>\n",
       "      <td>1.71</td>\n",
       "      <td>0.00</td>\n",
       "      <td>0.49</td>\n",
       "      <td>5.43</td>\n",
       "    </tr>\n",
       "  </tbody>\n",
       "</table>\n",
       "</div>"
      ],
      "text/plain": [
       "   Pos                       Game    Year             Genre  \\\n",
       "0    1         Grand Theft Auto V  2014.0            Action   \n",
       "1    2  Call of Duty: Black Ops 3  2015.0           Shooter   \n",
       "2    3         Call of Duty: WWII  2017.0           Shooter   \n",
       "3    4      Red Dead Redemption 2  2018.0  Action-Adventure   \n",
       "4    5                  MineCraft  2014.0              Misc   \n",
       "\n",
       "           Publisher  North America  Europe  Japan  Rest of World  Global  \n",
       "0     Rockstar Games           4.70    3.25   0.01           0.76    8.72  \n",
       "1         Activision           4.63    2.04   0.02           0.68    7.37  \n",
       "2         Activision           3.75    1.91   0.00           0.57    6.23  \n",
       "3     Rockstar Games           3.76    1.47   0.00           0.54    5.77  \n",
       "4  Microsoft Studios           3.23    1.71   0.00           0.49    5.43  "
      ]
     },
     "execution_count": 2,
     "metadata": {},
     "output_type": "execute_result"
    }
   ],
   "source": [
    "df.head()"
   ]
  },
  {
   "cell_type": "code",
   "execution_count": 3,
   "id": "4c1a43bd",
   "metadata": {},
   "outputs": [
    {
     "data": {
      "text/plain": [
       "613"
      ]
     },
     "execution_count": 3,
     "metadata": {},
     "output_type": "execute_result"
    }
   ],
   "source": [
    "len(df)"
   ]
  },
  {
   "cell_type": "code",
   "execution_count": 5,
   "id": "b39e13ef",
   "metadata": {},
   "outputs": [
    {
     "data": {
      "text/plain": [
       "10"
      ]
     },
     "execution_count": 5,
     "metadata": {},
     "output_type": "execute_result"
    }
   ],
   "source": [
    "len(df.columns)"
   ]
  },
  {
   "cell_type": "code",
   "execution_count": 7,
   "id": "bc5160d0",
   "metadata": {},
   "outputs": [
    {
     "data": {
      "text/plain": [
       "(613, 10)"
      ]
     },
     "execution_count": 7,
     "metadata": {},
     "output_type": "execute_result"
    }
   ],
   "source": [
    "df.shape"
   ]
  },
  {
   "cell_type": "code",
   "execution_count": 9,
   "id": "d4827459",
   "metadata": {},
   "outputs": [
    {
     "name": "stdout",
     "output_type": "stream",
     "text": [
      "<class 'pandas.core.frame.DataFrame'>\n",
      "RangeIndex: 613 entries, 0 to 612\n",
      "Data columns (total 10 columns):\n",
      " #   Column         Non-Null Count  Dtype  \n",
      "---  ------         --------------  -----  \n",
      " 0   Pos            613 non-null    int64  \n",
      " 1   Game           613 non-null    object \n",
      " 2   Year           505 non-null    float64\n",
      " 3   Genre          613 non-null    object \n",
      " 4   Publisher      505 non-null    object \n",
      " 5   North America  613 non-null    float64\n",
      " 6   Europe         613 non-null    float64\n",
      " 7   Japan          613 non-null    float64\n",
      " 8   Rest of World  613 non-null    float64\n",
      " 9   Global         613 non-null    float64\n",
      "dtypes: float64(6), int64(1), object(3)\n",
      "memory usage: 48.0+ KB\n"
     ]
    }
   ],
   "source": [
    "df.info()"
   ]
  },
  {
   "cell_type": "code",
   "execution_count": 10,
   "id": "bb881fcb",
   "metadata": {},
   "outputs": [
    {
     "data": {
      "text/html": [
       "<div>\n",
       "<style scoped>\n",
       "    .dataframe tbody tr th:only-of-type {\n",
       "        vertical-align: middle;\n",
       "    }\n",
       "\n",
       "    .dataframe tbody tr th {\n",
       "        vertical-align: top;\n",
       "    }\n",
       "\n",
       "    .dataframe thead th {\n",
       "        text-align: right;\n",
       "    }\n",
       "</style>\n",
       "<table border=\"1\" class=\"dataframe\">\n",
       "  <thead>\n",
       "    <tr style=\"text-align: right;\">\n",
       "      <th></th>\n",
       "      <th>Pos</th>\n",
       "      <th>Year</th>\n",
       "      <th>North America</th>\n",
       "      <th>Europe</th>\n",
       "      <th>Japan</th>\n",
       "      <th>Rest of World</th>\n",
       "      <th>Global</th>\n",
       "    </tr>\n",
       "  </thead>\n",
       "  <tbody>\n",
       "    <tr>\n",
       "      <th>count</th>\n",
       "      <td>613.000000</td>\n",
       "      <td>505.000000</td>\n",
       "      <td>613.000000</td>\n",
       "      <td>613.000000</td>\n",
       "      <td>613.000000</td>\n",
       "      <td>613.000000</td>\n",
       "      <td>613.000000</td>\n",
       "    </tr>\n",
       "    <tr>\n",
       "      <th>mean</th>\n",
       "      <td>307.000000</td>\n",
       "      <td>2015.821782</td>\n",
       "      <td>0.265628</td>\n",
       "      <td>0.132447</td>\n",
       "      <td>0.000832</td>\n",
       "      <td>0.039951</td>\n",
       "      <td>0.438874</td>\n",
       "    </tr>\n",
       "    <tr>\n",
       "      <th>std</th>\n",
       "      <td>177.102136</td>\n",
       "      <td>1.382975</td>\n",
       "      <td>0.594940</td>\n",
       "      <td>0.335311</td>\n",
       "      <td>0.004216</td>\n",
       "      <td>0.089343</td>\n",
       "      <td>0.983147</td>\n",
       "    </tr>\n",
       "    <tr>\n",
       "      <th>min</th>\n",
       "      <td>1.000000</td>\n",
       "      <td>2013.000000</td>\n",
       "      <td>0.000000</td>\n",
       "      <td>0.000000</td>\n",
       "      <td>0.000000</td>\n",
       "      <td>0.000000</td>\n",
       "      <td>0.000000</td>\n",
       "    </tr>\n",
       "    <tr>\n",
       "      <th>25%</th>\n",
       "      <td>154.000000</td>\n",
       "      <td>2015.000000</td>\n",
       "      <td>0.000000</td>\n",
       "      <td>0.000000</td>\n",
       "      <td>0.000000</td>\n",
       "      <td>0.000000</td>\n",
       "      <td>0.000000</td>\n",
       "    </tr>\n",
       "    <tr>\n",
       "      <th>50%</th>\n",
       "      <td>307.000000</td>\n",
       "      <td>2016.000000</td>\n",
       "      <td>0.050000</td>\n",
       "      <td>0.000000</td>\n",
       "      <td>0.000000</td>\n",
       "      <td>0.010000</td>\n",
       "      <td>0.060000</td>\n",
       "    </tr>\n",
       "    <tr>\n",
       "      <th>75%</th>\n",
       "      <td>460.000000</td>\n",
       "      <td>2017.000000</td>\n",
       "      <td>0.240000</td>\n",
       "      <td>0.100000</td>\n",
       "      <td>0.000000</td>\n",
       "      <td>0.030000</td>\n",
       "      <td>0.380000</td>\n",
       "    </tr>\n",
       "    <tr>\n",
       "      <th>max</th>\n",
       "      <td>613.000000</td>\n",
       "      <td>2020.000000</td>\n",
       "      <td>4.700000</td>\n",
       "      <td>3.250000</td>\n",
       "      <td>0.040000</td>\n",
       "      <td>0.760000</td>\n",
       "      <td>8.720000</td>\n",
       "    </tr>\n",
       "  </tbody>\n",
       "</table>\n",
       "</div>"
      ],
      "text/plain": [
       "              Pos         Year  North America      Europe       Japan  \\\n",
       "count  613.000000   505.000000     613.000000  613.000000  613.000000   \n",
       "mean   307.000000  2015.821782       0.265628    0.132447    0.000832   \n",
       "std    177.102136     1.382975       0.594940    0.335311    0.004216   \n",
       "min      1.000000  2013.000000       0.000000    0.000000    0.000000   \n",
       "25%    154.000000  2015.000000       0.000000    0.000000    0.000000   \n",
       "50%    307.000000  2016.000000       0.050000    0.000000    0.000000   \n",
       "75%    460.000000  2017.000000       0.240000    0.100000    0.000000   \n",
       "max    613.000000  2020.000000       4.700000    3.250000    0.040000   \n",
       "\n",
       "       Rest of World      Global  \n",
       "count     613.000000  613.000000  \n",
       "mean        0.039951    0.438874  \n",
       "std         0.089343    0.983147  \n",
       "min         0.000000    0.000000  \n",
       "25%         0.000000    0.000000  \n",
       "50%         0.010000    0.060000  \n",
       "75%         0.030000    0.380000  \n",
       "max         0.760000    8.720000  "
      ]
     },
     "execution_count": 10,
     "metadata": {},
     "output_type": "execute_result"
    }
   ],
   "source": [
    "df.describe()"
   ]
  },
  {
   "cell_type": "code",
   "execution_count": 11,
   "id": "c048e249",
   "metadata": {},
   "outputs": [
    {
     "name": "stdout",
     "output_type": "stream",
     "text": [
      "<class 'pandas.core.frame.DataFrame'>\n",
      "RangeIndex: 613 entries, 0 to 612\n",
      "Data columns (total 10 columns):\n",
      " #   Column         Non-Null Count  Dtype  \n",
      "---  ------         --------------  -----  \n",
      " 0   Pos            613 non-null    int64  \n",
      " 1   Game           613 non-null    object \n",
      " 2   Year           505 non-null    float64\n",
      " 3   Genre          613 non-null    object \n",
      " 4   Publisher      505 non-null    object \n",
      " 5   North America  613 non-null    float64\n",
      " 6   Europe         613 non-null    float64\n",
      " 7   Japan          613 non-null    float64\n",
      " 8   Rest of World  613 non-null    float64\n",
      " 9   Global         613 non-null    float64\n",
      "dtypes: float64(6), int64(1), object(3)\n",
      "memory usage: 48.0+ KB\n"
     ]
    }
   ],
   "source": [
    "df.info(307)"
   ]
  },
  {
   "cell_type": "code",
   "execution_count": 21,
   "id": "e6f77c96",
   "metadata": {},
   "outputs": [
    {
     "name": "stdout",
     "output_type": "stream",
     "text": [
      "0.33531111669406466\n",
      "0.13244698205546504\n",
      "0    0.0\n",
      "dtype: float64\n",
      "0.0\n",
      "0.11243354497862064\n"
     ]
    }
   ],
   "source": [
    "my_df = pd.DataFrame(df)\n",
    "#calculating the standard deviation of the column Europe (sales in europe)\n",
    "print(my_df['Europe'].std())\n",
    "#calculating the mean of the column Europe (sales in europe)\n",
    "print(my_df['Europe'].mean())\n",
    "#calculating the mode of the column Europe (sales in europe)\n",
    "print(my_df['Europe'].mode())\n",
    "#calculating the median of the column Europe (sales in europe)\n",
    "print(my_df['Europe'].median())\n",
    "#calculating the variance of the column Europe (sales in europe)\n",
    "print(my_df['Europe'].var())"
   ]
  },
  {
   "cell_type": "code",
   "execution_count": 24,
   "id": "139a9cf5",
   "metadata": {},
   "outputs": [
    {
     "name": "stderr",
     "output_type": "stream",
     "text": [
      "C:\\Users\\slimb\\anaconda3\\lib\\site-packages\\seaborn\\distributions.py:2557: FutureWarning: `distplot` is a deprecated function and will be removed in a future version. Please adapt your code to use either `displot` (a figure-level function with similar flexibility) or `histplot` (an axes-level function for histograms).\n",
      "  warnings.warn(msg, FutureWarning)\n"
     ]
    },
    {
     "data": {
      "text/plain": [
       "Text(0, 0.5, 'Freq')"
      ]
     },
     "execution_count": 24,
     "metadata": {},
     "output_type": "execute_result"
    },
    {
     "data": {
      "image/png": "[encoded data removed]",
      "text/plain": [
       "<Figure size 576x432 with 1 Axes>"
      ]
     },
     "metadata": {
      "needs_background": "light"
     },
     "output_type": "display_data"
    }
   ],
   "source": [
    "import matplotlib.pyplot as plt \n",
    "import seaborn as sns\n",
    "fig,ax = plt.subplots(figsize=(8,6))\n",
    "sns.distplot(df['Global'],kde=False,ax=ax)\n",
    "plt.title('Sale Price Distribution')\n",
    "plt.xlabel('Sale Price')\n",
    "plt.ylabel('Freq')"
   ]
  },
  {
   "cell_type": "code",
   "execution_count": 25,
   "id": "0b199e1b",
   "metadata": {},
   "outputs": [
    {
     "data": {
      "text/plain": [
       "Text(0.5, 1.0, 'Numeric Feature heatmap')"
      ]
     },
     "execution_count": 25,
     "metadata": {},
     "output_type": "execute_result"
    },
    {
     "data": {
      "image/png": "[encoded data removed]",
      "text/plain": [
       "<Figure size 576x432 with 2 Axes>"
      ]
     },
     "metadata": {
      "needs_background": "light"
     },
     "output_type": "display_data"
    }
   ],
   "source": [
    "fig,ax = plt.subplots(figsize=(8,6))\n",
    "correlation = df.select_dtypes(include=['float64','int64']).iloc[:,1:].corr()\n",
    "sns.heatmap(correlation,ax=ax,vmax=1,square=True)\n",
    "plt.title('Numeric Feature heatmap')"
   ]
  },
  {
   "cell_type": "code",
   "execution_count": 33,
   "id": "a8b06028",
   "metadata": {},
   "outputs": [
    {
     "data": {
      "image/png": "[encoded data removed]",
      "text/plain": [
       "<Figure size 432x288 with 1 Axes>"
      ]
     },
     "metadata": {
      "needs_background": "light"
     },
     "output_type": "display_data"
    }
   ],
   "source": [
    "ax2 = df.plot.scatter(x='Year',\n",
    "                      y='Europe')\n"
   ]
  },
  {
   "cell_type": "code",
   "execution_count": null,
   "id": "194b2ba4",
   "metadata": {},
   "outputs": [],
   "source": []
  }
 ],
 "metadata": {
  "kernelspec": {
   "display_name": "Python 3",
   "language": "python",
   "name": "python3"
  },
  "language_info": {
   "codemirror_mode": {
    "name": "ipython",
    "version": 3
   },
   "file_extension": ".py",
   "mimetype": "text/x-python",
   "name": "python",
   "nbconvert_exporter": "python",
   "pygments_lexer": "ipython3",
   "version": "3.8.8"
  }
 },
 "nbformat": 4,
 "nbformat_minor": 5
}
